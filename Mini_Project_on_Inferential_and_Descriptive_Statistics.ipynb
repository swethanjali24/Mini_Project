{
  "nbformat": 4,
  "nbformat_minor": 0,
  "metadata": {
    "colab": {
      "provenance": [],
      "authorship_tag": "ABX9TyOiYxnQ7K8R6HKcjBAa+Z5E",
      "include_colab_link": true
    },
    "kernelspec": {
      "name": "python3",
      "display_name": "Python 3"
    },
    "language_info": {
      "name": "python"
    }
  },
  "cells": [
    {
      "cell_type": "markdown",
      "metadata": {
        "id": "view-in-github",
        "colab_type": "text"
      },
      "source": [
        "<a href=\"https://colab.research.google.com/github/swethanjali24/Mini_Project/blob/main/Mini_Project_on_Inferential_and_Descriptive_Statistics.ipynb\" target=\"_parent\"><img src=\"https://colab.research.google.com/assets/colab-badge.svg\" alt=\"Open In Colab\"/></a>"
      ]
    },
    {
      "cell_type": "markdown",
      "source": [
        "# **Q1. Key Statistical Definitions**\n",
        "\n",
        "\n",
        "*Problem:   Write short definitions (2-3 lines each) for the following:*\n",
        "\n",
        "a) Population and Sample\n",
        "\n",
        "\n",
        "b) Descriptive Statistics and Inferential Statistics\n",
        "\n",
        "\n",
        "c) Parameter and Statistic\n",
        "\n",
        "\n",
        "\n",
        "\n",
        "\n",
        "\n",
        "d) Qualitative and Quantitative Data\n",
        "\n",
        "\n",
        "---\n",
        "## **a) Population and Sample**\n",
        "\n",
        "\n",
        "**Population** refers to the entire group of individuals or items that you're interested in studying.\n",
        "\n",
        "**Sample** is a subset of the population selected for analysis to draw conclusions about the whole group.\n",
        "\n",
        "\n",
        "### b) ***Descriptive Statistics and Inferential Statistics***\n",
        "\n",
        "\n",
        "\n",
        "**Descriptive Statistics** summarize and describe features of a dataset (e.g., mean, median, charts).\n",
        "\n",
        "**Inferential Statistics** use sample data to make predictions or generalizations about a population.\n",
        "\n",
        "## **c) Parameter and Statistic**\n",
        "\n",
        "A **Parameter** is a numerical value that describes a characteristic of a population (e.g., population mean).\n",
        "\n",
        "A **Statistic** is a numerical value that describes a characteristic of a sample (e.g., sample mean).\n",
        "\n",
        "## d) **Qualitative and Quantitative Data**\n",
        "\n",
        "**Qualitative Data** (categorical) represents characteristics or labels (e.g., color, gender).\n",
        "\n",
        "**Quantitative Data** (numerical) represents measurable quantities (e.g., height, age, salary).\n",
        "\n",
        "\n",
        "\n",
        "\n",
        "\n",
        "\n",
        "\n"
      ],
      "metadata": {
        "id": "5biGTlPz2Lxw"
      }
    },
    {
      "cell_type": "markdown",
      "source": [
        "# **Q2. Measures of Central Tendency - Definitions**\n",
        "\n",
        "\n",
        "\n",
        "**Problem:**\n",
        " Define the following terms with one example each:\n",
        "\n",
        "a) Mean\n",
        "\n",
        "\n",
        "b) Median\n",
        "\n",
        "\n",
        "c) Mode\n",
        "\n",
        "\n",
        "\n",
        "---\n",
        "\n",
        "**# a) Mean**\n",
        "\n",
        "The mean is the average of a set of numbers.\n",
        "\n",
        "Example: For the numbers 2, 4, 6, 8 → Mean = (2 + 4 + 6 + 8) / 4 = 5\n",
        "\n",
        "**# b) Median**\n",
        "\n",
        "The median is the middle value when the numbers are arranged in order.\n",
        "\n",
        "Example: For 3, 5, 7 → Median = 5;\n",
        "        For 3, 5, 7, 9 → Median = (5 + 7)/2 = 6\n",
        "\n",
        "**# c) Mode**\n",
        "\n",
        "The mode is the number that appears most frequently.\n",
        "\n",
        "\n",
        "Example: In 2, 3, 3, 4, 5 → Mode = 3\n"
      ],
      "metadata": {
        "id": "ZQ_6Mlxu8meC"
      }
    },
    {
      "cell_type": "markdown",
      "source": [
        "# **Q3. Manual Calculation of Mean, Median, and Mode**\n",
        "\n",
        "\n",
        "### **Problem:** Calculate the mean,median and mode for the below dataset\n",
        "\n",
        " **Given dataset:**\n",
        " 12, 18, 14, 16, 18, 20, 18, 15, 12, 18, 14, 16, 18, 20, 18, 15\n",
        "\n"
      ],
      "metadata": {
        "id": "E0O8A2n29udC"
      }
    },
    {
      "cell_type": "code",
      "source": [
        "# MEAN\n",
        "import statistics\n",
        "Dataset=[12,18,14,16,18,20,18,15,12,18,14,16,18,20,18,15]\n",
        "Mean=statistics.mean(Dataset)\n",
        "print(\"Mean:\",Mean)"
      ],
      "metadata": {
        "colab": {
          "base_uri": "https://localhost:8080/"
        },
        "id": "qiN-PQBj4voH",
        "outputId": "eeb0aebf-9698-4d66-caf8-6b223b6b395f"
      },
      "execution_count": 9,
      "outputs": [
        {
          "output_type": "stream",
          "name": "stdout",
          "text": [
            "Mean: 16.375\n"
          ]
        }
      ]
    },
    {
      "cell_type": "code",
      "source": [
        "# Median\n",
        "Median=statistics.median(Dataset)\n",
        "print(\"Median:\",Median)"
      ],
      "metadata": {
        "colab": {
          "base_uri": "https://localhost:8080/"
        },
        "id": "xw1ODry05R7V",
        "outputId": "bed10b32-dddd-4101-d9ee-b242422a0d39"
      },
      "execution_count": 10,
      "outputs": [
        {
          "output_type": "stream",
          "name": "stdout",
          "text": [
            "Median: 17.0\n"
          ]
        }
      ]
    },
    {
      "cell_type": "code",
      "source": [
        "# Mode\n",
        "Mode=statistics.mode(Dataset)\n",
        "print(\"Mode:\",Mode)"
      ],
      "metadata": {
        "colab": {
          "base_uri": "https://localhost:8080/"
        },
        "id": "q6WubX_e5f89",
        "outputId": "770d3a7a-97ff-4efa-f458-9c6af0b3c7c6"
      },
      "execution_count": 11,
      "outputs": [
        {
          "output_type": "stream",
          "name": "stdout",
          "text": [
            "Mode: 18\n"
          ]
        }
      ]
    },
    {
      "cell_type": "markdown",
      "source": [
        "# **Q4. Levels of Measurement**\n",
        "\n",
        "\n",
        "\n",
        "**Problem:**\n",
        "\n",
        " Define and give one example for each level of measurement:\n",
        "\n",
        "a) Nominal\n",
        "\n",
        "\n",
        "b) Ordinal\n",
        "\n",
        "\n",
        "c) Interval\n",
        "\n",
        "\n",
        "d) Ratio\n",
        "\n",
        "\n",
        "\n",
        "---\n",
        "\n",
        "# **a) Nominal**\n",
        "\n",
        "**Definition**:  Categorizes data without any order or ranking. The values are labels or names only.\n",
        "\n",
        "Example: Types of fruits – Apple, Banana, Mango.\n",
        "\n",
        "# **b) Ordinal**\n",
        "\n",
        "**Definition**: Categorizes data with a meaningful order or ranking, but the intervals between the values are not uniform or known.\n",
        "\n",
        "Example: Movie ratings – Poor, Fair, Good, Excellent.\n",
        "\n",
        "# **c) Interval**\n",
        "\n",
        "**Definition**: Numeric data with equal intervals between values, but no true zero point (zero doesn't mean 'none').\n",
        "\n",
        "Example: Temperature in Celsius – 0°C doesn’t mean no temperature.\n",
        "\n",
        "# **d) Ratio**\n",
        "\n",
        "\n",
        "**Definition**: Numeric data with equal intervals and a true zero point, allowing for meaningful ratios.\n",
        "\n",
        "Example: Height – 0 cm means no height; 160 cm is twice as tall as 80 cm.\n",
        "\n"
      ],
      "metadata": {
        "id": "Rh34b2s05met"
      }
    },
    {
      "cell_type": "markdown",
      "source": [
        "\n",
        "\n",
        "# **Q5. Variance and Standard Deviation - Theory**\n",
        "\n",
        "**Problem**:\n",
        "\n",
        "a) Define Variance and Standard Deviation.\n",
        "\n",
        "\n",
        "b) Explain why Standard Deviation is more interpretable than Variance.\n",
        "\n",
        "\n",
        "---\n",
        "### 📌 Variance and Standard Deviation\n",
        "\n",
        "#### 🔹 Variance\n",
        "- Variance measures how spread out the numbers in a dataset are from the mean.\n",
        "- It is the average of the **squared differences** from the mean.\n",
        "\n",
        "$$\n",
        "\\text{Variance} = \\frac{1}{n} \\sum_{i=1}^{n} (x_i - \\bar{x})^2\n",
        "$$\n",
        "\n",
        "#### 🔹 Standard Deviation\n",
        "- Standard deviation is the **square root of the variance**.\n",
        "- It gives the average distance of each data point from the mean, in the **same units** as the original data.\n",
        "\n",
        "$$\n",
        "\\text{Standard Deviation} = \\sqrt{\\text{Variance}}\n",
        "$$\n",
        "\n",
        "#### ✅ Why Standard Deviation is More Interpretable\n",
        "- Standard deviation is easier to understand because it's in the same units as the data.\n",
        "- For example, if your data is in kilograms, standard deviation is also in kilograms, while variance is in kg²."
      ],
      "metadata": {
        "id": "l3xv9CMW974S"
      }
    },
    {
      "cell_type": "markdown",
      "source": [
        "## **Q6. Manual Calculation - Variance and Standard Deviation**\n",
        "\n",
        "**Problem:**Calculate the Variance and Standard Deviation for the given data\n",
        "\n",
        "**Data**:\n",
        " 8, 10, 12, 14, 16, 10, 12, 14, 16\n",
        "\n",
        "**Calculate:**\n",
        "\n",
        "a) Sample Variance\n",
        "\n",
        "\n",
        "b) Sample Standard Deviation\n",
        "\n",
        "\n",
        "---\n",
        "\n",
        "\n"
      ],
      "metadata": {
        "id": "aCs14Pm-B105"
      }
    },
    {
      "cell_type": "code",
      "source": [
        "Data=[8,10,12,14,16,10,12,14,16]\n",
        "Variance=statistics.variance(Data)\n",
        "print(\"Variance:\",Variance)"
      ],
      "metadata": {
        "colab": {
          "base_uri": "https://localhost:8080/"
        },
        "id": "xtUyHN4HCee9",
        "outputId": "705692ef-0d0c-4bae-9453-92f2fa81f4b7"
      },
      "execution_count": 12,
      "outputs": [
        {
          "output_type": "stream",
          "name": "stdout",
          "text": [
            "Variance: 7.777777777777778\n"
          ]
        }
      ]
    },
    {
      "cell_type": "code",
      "source": [
        "Standard_Deviation=statistics.stdev(Data)\n",
        "print(\"Standard Deviation:\",Standard_Deviation)"
      ],
      "metadata": {
        "colab": {
          "base_uri": "https://localhost:8080/"
        },
        "id": "CtjXfNOEC1tZ",
        "outputId": "0b41e63e-d907-47b8-d2e7-7357460e8c4e"
      },
      "execution_count": 13,
      "outputs": [
        {
          "output_type": "stream",
          "name": "stdout",
          "text": [
            "Standard Deviation: 2.788866755113585\n"
          ]
        }
      ]
    },
    {
      "cell_type": "markdown",
      "source": [
        "# **Q7. Range and Interquartile Range (IQR)**\n",
        "\n",
        "\n",
        "**Problem**:\n",
        "\n",
        " Given dataset:\n",
        " 22, 29, 25, 31, 35, 40, 45, 48, 50\n",
        "\n",
        "a) Arrange data in ascending order\n",
        "\n",
        "\n",
        "b) Calculate the Range\n",
        "\n",
        "\n",
        "c) Find Q1, Q3, and IQR\n",
        "\n",
        "\n",
        "---\n",
        "\n"
      ],
      "metadata": {
        "id": "xNIY7U0sDHOP"
      }
    },
    {
      "cell_type": "code",
      "source": [
        "Data=[22,29,25,31,35,40,45,48,50]\n",
        "sorted_data=sorted(Data)\n",
        "print(\"Sorted Data:\",sorted_data)"
      ],
      "metadata": {
        "colab": {
          "base_uri": "https://localhost:8080/"
        },
        "id": "448ZXEGsD5Nf",
        "outputId": "ea61eea8-d77a-4225-dc86-c370771104d8"
      },
      "execution_count": 14,
      "outputs": [
        {
          "output_type": "stream",
          "name": "stdout",
          "text": [
            "Sorted Data: [22, 25, 29, 31, 35, 40, 45, 48, 50]\n"
          ]
        }
      ]
    },
    {
      "cell_type": "code",
      "source": [
        "Range=max(Data)-min(Data)\n",
        "print(\"Range:\",Range)"
      ],
      "metadata": {
        "colab": {
          "base_uri": "https://localhost:8080/"
        },
        "id": "5T7v4mmBED3F",
        "outputId": "7db49c62-ad63-49db-f847-577058535f9e"
      },
      "execution_count": 15,
      "outputs": [
        {
          "output_type": "stream",
          "name": "stdout",
          "text": [
            "Range: 28\n"
          ]
        }
      ]
    },
    {
      "cell_type": "code",
      "source": [
        "import numpy as np\n",
        "\n",
        "Q1=np.percentile(Data,25)\n",
        "\n",
        "Q3=np.percentile(Data,75)\n",
        "\n",
        "print(\"Q1:\",Q1)\n",
        "print(\"Q3:\",Q3)\n",
        "IQR=Q3-Q1\n",
        "print(\"IQR:\",IQR)"
      ],
      "metadata": {
        "colab": {
          "base_uri": "https://localhost:8080/"
        },
        "id": "1cEDmETXEL33",
        "outputId": "16283e75-ba11-4bff-df3d-d95fb1e65c6f"
      },
      "execution_count": 16,
      "outputs": [
        {
          "output_type": "stream",
          "name": "stdout",
          "text": [
            "Q1: 29.0\n",
            "Q3: 45.0\n",
            "IQR: 16.0\n"
          ]
        }
      ]
    },
    {
      "cell_type": "markdown",
      "source": [
        "# **Q8. Five-number Summary and Boxplot Concept**\n",
        "\n",
        "**Problem:**\n",
        "Define the Five-number Summary and explain each component:\n",
        "\n",
        "\n",
        "* Minimum\n",
        "\n",
        "\n",
        "\n",
        "\n",
        "\n",
        "\n",
        "*  Q1 First Quartile\n",
        "\n",
        "\n",
        "* Median\n",
        "\n",
        "\n",
        "* Q3 (Third Quartile)\n",
        "\n",
        "\n",
        "* Maximum\n",
        "\n",
        "\n",
        "\n",
        "\n",
        "\n",
        "\n",
        " *Describe how boxplots help in detecting outliers.\n",
        "\n",
        "\n",
        "---\n",
        "\n",
        "\n",
        "\n",
        "\n"
      ],
      "metadata": {
        "id": "JF2RzpScGnEC"
      }
    },
    {
      "cell_type": "markdown",
      "source": [
        "**Five-number Summary**\n",
        "\n",
        "The five-number summary is a way to describe the distribution of a dataset using five key values. These values provide a quick snapshot of the spread and center of the data.\n",
        "\n",
        "**1. Minimum**\n",
        "\n",
        "The smallest data point in the dataset (excluding outliers if they are being considered separately).\n",
        "\n",
        "**2. Q1 (First Quartile)**\n",
        "\n",
        "Also called the 25th percentile. It is the median of the lower half of the dataset. This means 25% of the data falls below Q1.\n",
        "\n",
        "**3. Median (Q2)**\n",
        "\n",
        "The middle value of the dataset when it is sorted in ascending order. It divides the data into two equal halves (50% below, 50% above).\n",
        "\n",
        "**4. Q3 (Third Quartile)**\n",
        "\n",
        "Also called the 75th percentile. It is the median of the upper half of the dataset. This means 75% of the data falls below Q3.\n",
        "\n",
        "**5. Maximum**\n",
        "\n",
        "The largest data point in the dataset (excluding outliers if considered separately).\n",
        "\n",
        "***How Boxplots Help Detect Outliers***\n",
        "A boxplot (or box-and-whisker plot) visually represents the five-number summary:\n",
        "\n",
        "The box spans from Q1 to Q3.\n",
        "\n",
        "A line inside the box marks the median.\n",
        "The whiskers extend from the box to the minimum and maximum values within 1.5 × IQR (Interquartile Range, which is Q3 - Q1).\n",
        "Outliers are any data points beyond the whiskers and are plotted as individual points or dots.\n",
        "\n",
        "## ***Why it's useful:***\n",
        "Quickly identifies skewness (if median is not centered in the box).\n",
        "Detects outliers as points far outside the whiskers.\n",
        "Shows spread and variability in the data.\n"
      ],
      "metadata": {
        "id": "alfENR9F8s9q"
      }
    },
    {
      "cell_type": "markdown",
      "source": [
        "# **Q9. Confidence Interval for the Mean**\n",
        "***Objective:*** Estimate population means using sample data.\n",
        "\n",
        "***Problem:***\n",
        " A sample of 36 students has an average height of 162 cm with a standard deviation of 6 cm.\n",
        " *Calculate* the 95% Confidence Interval for the population mean.\n",
        " (Hint: Use Z = 1.96 for 95% confidence)\n",
        "\n",
        "\n",
        "---\n",
        "\n"
      ],
      "metadata": {
        "id": "ABjl9Z6p_06D"
      }
    },
    {
      "cell_type": "markdown",
      "source": [
        "*Given**:  \n",
        "- Sample size \\( n = 36 \\)  \n",
        "- Sample mean \\( \\bar{x} = 162 \\, \\text{cm} \\)  \n",
        "- Sample standard deviation \\( s = 6 \\, \\text{cm} \\)  \n",
        "- Z-value for 95% confidence = 1.96\n",
        "\n",
        "---\n",
        "\n",
        "**Step 1: Calculate Standard Error (SE)**  \n",
        "$$\n",
        "SE = \\frac{s}{\\sqrt{n}} = \\frac{6}{\\sqrt{36}} = \\frac{6}{6} = 1\n",
        "$$\n",
        "\n",
        "---\n",
        "\n",
        "**Step 2: Confidence Interval Formula**  \n",
        "$$\n",
        "\\bar{x} \\pm Z \\cdot SE = 162 \\pm 1.96 \\cdot 1 = 162 \\pm 1.96\n",
        "$$\n",
        "\n",
        "---\n",
        "\n",
        "**Final 95% Confidence Interval**  \n",
        "$$\n",
        "(160.04 \\, \\text{cm},\\ 163.96 \\, \\text{cm})\n",
        "$$"
      ],
      "metadata": {
        "id": "esDzLmr0CVIW"
      }
    },
    {
      "cell_type": "markdown",
      "source": [
        "# **Q10. Hypothesis Testing - One Sample Z-Test**\n",
        "**Objective**: Make decisions using statistical testing.\n",
        "\n",
        "***Problem:***\n",
        " The average salary in a city is ₹30,000. A random sample of 49 employees has an average salary of ₹31,000 with a standard deviation of ₹4,900.\n",
        " Test the hypothesis at the 5% level of significance to determine if the average salary has increased.\n",
        "\n",
        "a) State the null and alternative hypothesis:\n",
        "\n",
        "\n",
        "b) Calculate the Z-score:\n",
        "\n",
        "\n",
        "c) Conclude the result using critical value (±1.96)\n",
        "\n",
        "\n",
        "---\n",
        "\n"
      ],
      "metadata": {
        "id": "vCyyhPHTC7FS"
      }
    },
    {
      "cell_type": "markdown",
      "source": [
        "### 📊 Given:\n",
        "- Population Mean (μ) = ₹30,000  \n",
        "- Sample Mean (x̄) = ₹31,000  \n",
        "- Sample Standard Deviation (s) = ₹4,900  \n",
        "- Sample Size (n) = 49  \n",
        "- Significance Level (α) = 0.05 (5%)  \n",
        "- Critical Z-values (two-tailed at α = 0.05) = **±1.96**\n",
        "\n",
        "---\n",
        "\n",
        "### 🧪 a) Hypotheses\n",
        "\n",
        "- **Null Hypothesis (H₀)**: μ = ₹30,000  \n",
        "- **Alternative Hypothesis (H₁)**: μ ≠ ₹30,000 (we are testing for **any change**, not just increase)\n",
        "\n",
        "This is a **two-tailed test**.\n",
        "\n",
        "---\n",
        "\n",
        "### 🔢 b) Z-Score Calculation\n",
        "\n",
        "**Step 1: Calculate Standard Error (SE)**  \n",
        "$$\n",
        "SE = \\frac{s}{\\sqrt{n}} = \\frac{4900}{\\sqrt{49}} = \\frac{4900}{7} = 700\n",
        "$$\n",
        "\n",
        "**Step 2: Calculate Z-score**  \n",
        "$$\n",
        "Z = \\frac{\\bar{x} - \\mu}{SE} = \\frac{31,000 - 30,000}{700} = \\frac{1000}{700} = 1.43\n",
        "$$\n",
        "\n",
        "---\n",
        "\n",
        "### ✅ c) Conclusion (Compare with critical value)\n",
        "\n",
        "- Z = 1.43  \n",
        "- Critical Z-values = ±1.96 (two-tailed)\n",
        "\n",
        "Since:\n",
        "$$\n",
        "-1.96 < Z = 1.43 < 1.96\n",
        "$$\n",
        "\n",
        "**We fail to reject the null hypothesis.**\n",
        "\n",
        "➡ There is **not enough evidence** at the 5% level to say that the average salary is significantly different from ₹30,000.\n",
        "\n",
        "---\n",
        "\n",
        "### 📋 Summary Table\n",
        "\n",
        "| **Step**              | **Value / Description**                                     |\n",
        "|-----------------------|-------------------------------------------------------------|\n",
        "| Population Mean (μ)   | ₹30,000                                                     |\n",
        "| Sample Mean (x̄)       | ₹31,000                                                     |\n",
        "| Sample Std Dev (s)    | ₹4,900                                                      |\n",
        "| Sample Size (n)       | 49                                                          |\n",
        "| Standard Error (SE)   | ₹700                                                        |\n",
        "| Z-Score               | 1.43                                                        |\n",
        "| Critical Z (5%)       | ±1.96                                                       |\n",
        "| Decision              | Fail to reject H₀                                           |\n",
        "| Conclusion            | Not enough evidence to say the average salary is different  |\n",
        "\n",
        "---"
      ],
      "metadata": {
        "id": "3pigd9dvGKEe"
      }
    },
    {
      "cell_type": "markdown",
      "source": [],
      "metadata": {
        "id": "TN9pvsoNHN2A"
      }
    },
    {
      "cell_type": "code",
      "source": [],
      "metadata": {
        "id": "EjvKIjqz_xM2"
      },
      "execution_count": 16,
      "outputs": []
    },
    {
      "cell_type": "markdown",
      "source": [],
      "metadata": {
        "id": "ULORYhXOGJDZ"
      }
    },
    {
      "cell_type": "code",
      "source": [],
      "metadata": {
        "id": "_gheqPb9_z7l"
      },
      "execution_count": 16,
      "outputs": []
    }
  ]
}